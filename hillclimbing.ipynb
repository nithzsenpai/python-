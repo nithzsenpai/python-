{
  "nbformat": 4,
  "nbformat_minor": 0,
  "metadata": {
    "colab": {
      "provenance": [],
      "authorship_tag": "ABX9TyPIMQ9GIlTA2BC6/5PK0son",
      "include_colab_link": true
    },
    "kernelspec": {
      "name": "python3",
      "display_name": "Python 3"
    },
    "language_info": {
      "name": "python"
    }
  },
  "cells": [
    {
      "cell_type": "markdown",
      "metadata": {
        "id": "view-in-github",
        "colab_type": "text"
      },
      "source": [
        "<a href=\"https://colab.research.google.com/github/nithzsenpai/python-/blob/main/hillclimbing.ipynb\" target=\"_parent\"><img src=\"https://colab.research.google.com/assets/colab-badge.svg\" alt=\"Open In Colab\"/></a>"
      ]
    },
    {
      "cell_type": "code",
      "execution_count": 3,
      "metadata": {
        "colab": {
          "base_uri": "https://localhost:8080/"
        },
        "id": "uj96zlKBE7ah",
        "outputId": "a8ed31fc-f0df-4435-951b-04e31932dd43"
      },
      "outputs": [
        {
          "output_type": "stream",
          "name": "stdout",
          "text": [
            "Step 0: [0, 0, 1, 2, 3, 3] (Heuristic=8)\n",
            " Q  Q  .  .  .  . \n",
            " .  .  Q  .  .  . \n",
            " .  .  .  Q  .  . \n",
            " .  .  .  .  Q  Q \n",
            " .  .  .  .  .  . \n",
            " .  .  .  .  .  . \n",
            "\n",
            "\n",
            "Step 1: [0, 5, 1, 2, 3, 3] (Heuristic=4)\n",
            " Q  .  .  .  .  . \n",
            " .  .  Q  .  .  . \n",
            " .  .  .  Q  .  . \n",
            " .  .  .  .  Q  Q \n",
            " .  .  .  .  .  . \n",
            " .  Q  .  .  .  . \n",
            "\n",
            "\n",
            "Step 2: [0, 5, 1, 2, 0, 3] (Heuristic=2)\n",
            " Q  .  .  .  Q  . \n",
            " .  .  Q  .  .  . \n",
            " .  .  .  Q  .  . \n",
            " .  .  .  .  .  Q \n",
            " .  .  .  .  .  . \n",
            " .  Q  .  .  .  . \n",
            "\n",
            "\n",
            "Step 3: [0, 5, 1, 4, 0, 3] (Heuristic=1)\n",
            " Q  .  .  .  Q  . \n",
            " .  .  Q  .  .  . \n",
            " .  .  .  .  .  . \n",
            " .  .  .  .  .  Q \n",
            " .  .  .  Q  .  . \n",
            " .  Q  .  .  .  . \n",
            "\n",
            "\n",
            "Step 4: [2, 5, 1, 4, 0, 3] (Heuristic=0)\n",
            " .  .  .  .  Q  . \n",
            " .  .  Q  .  .  . \n",
            " Q  .  .  .  .  . \n",
            " .  .  .  .  .  Q \n",
            " .  .  .  Q  .  . \n",
            " .  Q  .  .  .  . \n",
            "\n",
            "\n",
            "Solution found!\n"
          ]
        }
      ],
      "source": [
        "import random\n",
        "\n",
        "N = 6\n",
        "\n",
        "def print_board(state):\n",
        "    for row in range(N):\n",
        "        line = \"\"\n",
        "        for col in range(N):\n",
        "            if state[col] == row:\n",
        "                line += \" Q \"\n",
        "            else:\n",
        "                line += \" . \"\n",
        "        print(line)\n",
        "    print(\"\\n\")\n",
        "\n",
        "# Heuristic function: number of pairs of queens attacking each other\n",
        "def heuristic(state):\n",
        "    h = 0\n",
        "    for i in range(N):\n",
        "        for j in range(i+1, N):\n",
        "            if state[i] == state[j] or abs(state[i]-state[j]) == abs(i-j):\n",
        "                h += 1\n",
        "    return h\n",
        "\n",
        "# Hill climbing algorithm\n",
        "def hill_climbing():\n",
        "    # Random initial state\n",
        "    current = [random.randint(0, N-1) for _ in range(N)]\n",
        "    steps = 0\n",
        "\n",
        "    while True:\n",
        "        print(f\"Step {steps}: {current} (Heuristic={heuristic(current)})\")\n",
        "        print_board(current)\n",
        "        if heuristic(current) == 0:\n",
        "            print(\"Solution found!\")\n",
        "            return current\n",
        "\n",
        "        neighbors = []\n",
        "        for col in range(N):\n",
        "            for row in range(N):\n",
        "                if row != current[col]:\n",
        "                    neighbor = list(current)\n",
        "                    neighbor[col] = row\n",
        "                    neighbors.append(neighbor)\n",
        "\n",
        "        # Choose the neighbor with the lowest heuristic\n",
        "        current = min(neighbors, key=heuristic)\n",
        "        steps += 1\n",
        "\n",
        "        # If no improvement, restart\n",
        "        if heuristic(current) >= heuristic(neighbors[0]):\n",
        "            print(\"Stuck in local maxima, restarting...\\n\")\n",
        "            current = [random.randint(0, N-1) for _ in range(N)]\n",
        "            steps = 0\n",
        "\n",
        "# Run the algorithm\n",
        "solution = hill_climbing()\n"
      ]
    },
    {
      "cell_type": "code",
      "source": [],
      "metadata": {
        "id": "A-OA5hXfMqMN"
      },
      "execution_count": null,
      "outputs": []
    }
  ]
}