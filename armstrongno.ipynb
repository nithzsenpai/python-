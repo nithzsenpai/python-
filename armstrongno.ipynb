{
  "nbformat": 4,
  "nbformat_minor": 0,
  "metadata": {
    "colab": {
      "provenance": [],
      "authorship_tag": "ABX9TyMGDZ4uNHJe849scD6WMM0A",
      "include_colab_link": true
    },
    "kernelspec": {
      "name": "python3",
      "display_name": "Python 3"
    },
    "language_info": {
      "name": "python"
    }
  },
  "cells": [
    {
      "cell_type": "markdown",
      "metadata": {
        "id": "view-in-github",
        "colab_type": "text"
      },
      "source": [
        "<a href=\"https://colab.research.google.com/github/nithzsenpai/python-/blob/main/armstrongno.ipynb\" target=\"_parent\"><img src=\"https://colab.research.google.com/assets/colab-badge.svg\" alt=\"Open In Colab\"/></a>"
      ]
    },
    {
      "cell_type": "code",
      "execution_count": 1,
      "metadata": {
        "colab": {
          "base_uri": "https://localhost:8080/"
        },
        "id": "02_aGqe4brck",
        "outputId": "f02aaf51-85af-4897-cdd5-40935824c72c"
      },
      "outputs": [
        {
          "output_type": "stream",
          "name": "stdout",
          "text": [
            "enter no:371\n",
            "yes\n"
          ]
        }
      ],
      "source": [
        "num=int(input(\"enter no:\"))\n",
        "temp=num\n",
        "lenght=len(str(num))\n",
        "sum=0\n",
        "rem=0\n",
        "\n",
        "i=0\n",
        "while temp!=0:\n",
        "    rem=temp%10\n",
        "    sum=sum+rem**lenght\n",
        "    temp=temp//10\n",
        "if(sum==num):\n",
        "    print(\"yes\")\n",
        "else:\n",
        "    print(\"no\")\n",
        "\n",
        "\n",
        "\n",
        ""
      ]
    }
  ]
}